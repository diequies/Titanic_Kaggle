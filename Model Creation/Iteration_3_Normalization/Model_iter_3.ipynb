{
 "cells": [
  {
   "cell_type": "markdown",
   "id": "c0d3d607",
   "metadata": {},
   "source": [
    "## 1. Library Import"
   ]
  },
  {
   "cell_type": "code",
   "execution_count": 52,
   "id": "9b76377e",
   "metadata": {},
   "outputs": [],
   "source": [
    "import numpy as np\n",
    "import pandas as pd\n",
    "import matplotlib.pyplot as plt\n",
    "import seaborn as sns\n",
    "from sklearn.linear_model import LogisticRegression\n",
    "from sklearn.metrics import confusion_matrix\n",
    "from sklearn.metrics import accuracy_score\n",
    "from sklearn.model_selection import GridSearchCV\n",
    "from sklearn.model_selection import RepeatedStratifiedKFold\n",
    "from sklearn.metrics import f1_score\n",
    "from sklearn.metrics import recall_score\n",
    "from sklearn.metrics import roc_curve, auc\n",
    "from sklearn.neighbors import KNeighborsClassifier\n",
    "from sklearn.svm import SVC, LinearSVC\n",
    "from sklearn.naive_bayes import GaussianNB\n",
    "from sklearn.linear_model import Perceptron\n",
    "from sklearn.linear_model import SGDClassifier\n",
    "from sklearn.tree import DecisionTreeClassifier\n",
    "from sklearn.ensemble import RandomForestClassifier\n",
    "from xgboost import XGBClassifier\n",
    "from sklearn.model_selection import cross_validate, cross_val_predict"
   ]
  },
  {
   "cell_type": "markdown",
   "id": "1af580e7",
   "metadata": {},
   "source": [
    "## 2. Load Data"
   ]
  },
  {
   "cell_type": "code",
   "execution_count": 3,
   "id": "983f56c8",
   "metadata": {},
   "outputs": [],
   "source": [
    "df_train = pd.read_csv('train_iter_3.csv',\n",
    "                      index_col = 0)\n",
    "df_test = pd.read_csv('test_iter_3.csv',\n",
    "                      index_col = 0)\n",
    "\n",
    "X_train = df_train.drop('Survived',\n",
    "                       axis = 1,)\n",
    "Y_train = df_train.loc[:,'Survived']\n",
    "X_test = df_test\n",
    "\n",
    "df_best_result = pd.read_csv('../Iteration_2_Standardization/best_result_2.csv',\n",
    "                             index_col = 0)"
   ]
  },
  {
   "cell_type": "markdown",
   "id": "5e2e25f0",
   "metadata": {},
   "source": [
    "## 3. Model"
   ]
  },
  {
   "cell_type": "markdown",
   "id": "17a19891",
   "metadata": {},
   "source": [
    "### 3.1. Logistic Regression"
   ]
  },
  {
   "cell_type": "code",
   "execution_count": 4,
   "id": "705c84fb",
   "metadata": {},
   "outputs": [
    {
     "name": "stdout",
     "output_type": "stream",
     "text": [
      "Best: 0.797216 using {'C': 1.0, 'class_weight': None, 'penalty': 'l2', 'solver': 'liblinear'}\n"
     ]
    }
   ],
   "source": [
    "#define the model\n",
    "model = LogisticRegression()\n",
    "\n",
    "#define the parameters to search\n",
    "solvers = ['newton-cg', 'lbfgs', 'liblinear', 'sag', 'saga']\n",
    "penalty = ['l2']\n",
    "c_values = [100, 10, 1.0, 0.1, 0.01]\n",
    "class_weight = [None, 'balanced']\n",
    "\n",
    "#define grid search\n",
    "grid = dict(solver = solvers,\n",
    "           penalty = penalty,\n",
    "           C = c_values,\n",
    "           class_weight = class_weight)\n",
    "cv = RepeatedStratifiedKFold(n_splits = 10, \n",
    "                             n_repeats = 3, \n",
    "                             random_state = 1)\n",
    "grid_search = GridSearchCV(estimator = model,\n",
    "                          param_grid = grid,\n",
    "                          n_jobs = -1,\n",
    "                          cv = cv,\n",
    "                          scoring = 'accuracy',\n",
    "                          error_score = 0)\n",
    "grid_result = grid_search.fit(X_train, Y_train)\n",
    "\n",
    "#summarize results\n",
    "print('Best: %f using %s' % (grid_result.best_score_,\n",
    "                            grid_result.best_params_))\n",
    "means = grid_result.cv_results_['mean_test_score']\n",
    "stds = grid_result.cv_results_['std_test_score']\n",
    "params = grid_result.cv_results_['params']\n",
    "results_dict = dict(means = means,\n",
    "                  stds = stds,\n",
    "                  params = params)"
   ]
  },
  {
   "cell_type": "code",
   "execution_count": 5,
   "id": "88a962e7",
   "metadata": {},
   "outputs": [
    {
     "data": {
      "text/html": [
       "<div>\n",
       "<style scoped>\n",
       "    .dataframe tbody tr th:only-of-type {\n",
       "        vertical-align: middle;\n",
       "    }\n",
       "\n",
       "    .dataframe tbody tr th {\n",
       "        vertical-align: top;\n",
       "    }\n",
       "\n",
       "    .dataframe thead th {\n",
       "        text-align: right;\n",
       "    }\n",
       "</style>\n",
       "<table border=\"1\" class=\"dataframe\">\n",
       "  <thead>\n",
       "    <tr style=\"text-align: right;\">\n",
       "      <th></th>\n",
       "      <th>means</th>\n",
       "      <th>stds</th>\n",
       "      <th>params</th>\n",
       "    </tr>\n",
       "  </thead>\n",
       "  <tbody>\n",
       "    <tr>\n",
       "      <th>0</th>\n",
       "      <td>0.797216</td>\n",
       "      <td>0.040543</td>\n",
       "      <td>{'C': 1.0, 'class_weight': None, 'penalty': 'l...</td>\n",
       "    </tr>\n",
       "    <tr>\n",
       "      <th>1</th>\n",
       "      <td>0.795352</td>\n",
       "      <td>0.036237</td>\n",
       "      <td>{'C': 10, 'class_weight': None, 'penalty': 'l2...</td>\n",
       "    </tr>\n",
       "    <tr>\n",
       "      <th>2</th>\n",
       "      <td>0.793854</td>\n",
       "      <td>0.037244</td>\n",
       "      <td>{'C': 1.0, 'class_weight': None, 'penalty': 'l...</td>\n",
       "    </tr>\n",
       "    <tr>\n",
       "      <th>3</th>\n",
       "      <td>0.793854</td>\n",
       "      <td>0.037244</td>\n",
       "      <td>{'C': 1.0, 'class_weight': None, 'penalty': 'l...</td>\n",
       "    </tr>\n",
       "    <tr>\n",
       "      <th>4</th>\n",
       "      <td>0.793854</td>\n",
       "      <td>0.037244</td>\n",
       "      <td>{'C': 1.0, 'class_weight': None, 'penalty': 'l...</td>\n",
       "    </tr>\n",
       "    <tr>\n",
       "      <th>5</th>\n",
       "      <td>0.793854</td>\n",
       "      <td>0.037244</td>\n",
       "      <td>{'C': 1.0, 'class_weight': None, 'penalty': 'l...</td>\n",
       "    </tr>\n",
       "    <tr>\n",
       "      <th>6</th>\n",
       "      <td>0.793109</td>\n",
       "      <td>0.037031</td>\n",
       "      <td>{'C': 100, 'class_weight': None, 'penalty': 'l...</td>\n",
       "    </tr>\n",
       "    <tr>\n",
       "      <th>7</th>\n",
       "      <td>0.793104</td>\n",
       "      <td>0.037506</td>\n",
       "      <td>{'C': 10, 'class_weight': None, 'penalty': 'l2...</td>\n",
       "    </tr>\n",
       "    <tr>\n",
       "      <th>8</th>\n",
       "      <td>0.793104</td>\n",
       "      <td>0.037506</td>\n",
       "      <td>{'C': 10, 'class_weight': None, 'penalty': 'l2...</td>\n",
       "    </tr>\n",
       "    <tr>\n",
       "      <th>9</th>\n",
       "      <td>0.793104</td>\n",
       "      <td>0.037506</td>\n",
       "      <td>{'C': 10, 'class_weight': None, 'penalty': 'l2...</td>\n",
       "    </tr>\n",
       "  </tbody>\n",
       "</table>\n",
       "</div>"
      ],
      "text/plain": [
       "      means      stds                                             params\n",
       "0  0.797216  0.040543  {'C': 1.0, 'class_weight': None, 'penalty': 'l...\n",
       "1  0.795352  0.036237  {'C': 10, 'class_weight': None, 'penalty': 'l2...\n",
       "2  0.793854  0.037244  {'C': 1.0, 'class_weight': None, 'penalty': 'l...\n",
       "3  0.793854  0.037244  {'C': 1.0, 'class_weight': None, 'penalty': 'l...\n",
       "4  0.793854  0.037244  {'C': 1.0, 'class_weight': None, 'penalty': 'l...\n",
       "5  0.793854  0.037244  {'C': 1.0, 'class_weight': None, 'penalty': 'l...\n",
       "6  0.793109  0.037031  {'C': 100, 'class_weight': None, 'penalty': 'l...\n",
       "7  0.793104  0.037506  {'C': 10, 'class_weight': None, 'penalty': 'l2...\n",
       "8  0.793104  0.037506  {'C': 10, 'class_weight': None, 'penalty': 'l2...\n",
       "9  0.793104  0.037506  {'C': 10, 'class_weight': None, 'penalty': 'l2..."
      ]
     },
     "execution_count": 5,
     "metadata": {},
     "output_type": "execute_result"
    }
   ],
   "source": [
    "df_logistic_results = pd.DataFrame(data = results_dict)\n",
    "df_logistic_results.sort_values(by = 'means',\n",
    "                            axis = 0,\n",
    "                            inplace = True,\n",
    "                            ascending = False)\n",
    "df_logistic_results.reset_index(drop = True,\n",
    "                               inplace = True)\n",
    "df_logistic_results.head(10)"
   ]
  },
  {
   "cell_type": "code",
   "execution_count": 6,
   "id": "f3ea517f",
   "metadata": {},
   "outputs": [
    {
     "data": {
      "text/html": [
       "<div>\n",
       "<style scoped>\n",
       "    .dataframe tbody tr th:only-of-type {\n",
       "        vertical-align: middle;\n",
       "    }\n",
       "\n",
       "    .dataframe tbody tr th {\n",
       "        vertical-align: top;\n",
       "    }\n",
       "\n",
       "    .dataframe thead th {\n",
       "        text-align: right;\n",
       "    }\n",
       "</style>\n",
       "<table border=\"1\" class=\"dataframe\">\n",
       "  <thead>\n",
       "    <tr style=\"text-align: right;\">\n",
       "      <th></th>\n",
       "      <th>means</th>\n",
       "      <th>stds</th>\n",
       "      <th>params</th>\n",
       "      <th>Model</th>\n",
       "    </tr>\n",
       "  </thead>\n",
       "  <tbody>\n",
       "    <tr>\n",
       "      <th>0</th>\n",
       "      <td>0.797216</td>\n",
       "      <td>0.040543</td>\n",
       "      <td>{'C': 1.0, 'class_weight': None, 'penalty': 'l...</td>\n",
       "      <td>Logistic_Regression</td>\n",
       "    </tr>\n",
       "  </tbody>\n",
       "</table>\n",
       "</div>"
      ],
      "text/plain": [
       "      means      stds                                             params  \\\n",
       "0  0.797216  0.040543  {'C': 1.0, 'class_weight': None, 'penalty': 'l...   \n",
       "\n",
       "                 Model  \n",
       "0  Logistic_Regression  "
      ]
     },
     "execution_count": 6,
     "metadata": {},
     "output_type": "execute_result"
    }
   ],
   "source": [
    "df_best_result_LR = pd.DataFrame(df_logistic_results.iloc[0,:]).T\n",
    "df_best_result_LR['Model'] = \"Logistic_Regression\"\n",
    "df_best_result_LR"
   ]
  },
  {
   "cell_type": "code",
   "execution_count": 45,
   "id": "ca3ff6cd",
   "metadata": {},
   "outputs": [
    {
     "data": {
      "text/html": [
       "<div>\n",
       "<style scoped>\n",
       "    .dataframe tbody tr th:only-of-type {\n",
       "        vertical-align: middle;\n",
       "    }\n",
       "\n",
       "    .dataframe tbody tr th {\n",
       "        vertical-align: top;\n",
       "    }\n",
       "\n",
       "    .dataframe thead th {\n",
       "        text-align: right;\n",
       "    }\n",
       "</style>\n",
       "<table border=\"1\" class=\"dataframe\">\n",
       "  <thead>\n",
       "    <tr style=\"text-align: right;\">\n",
       "      <th></th>\n",
       "      <th>0</th>\n",
       "      <th>1</th>\n",
       "    </tr>\n",
       "  </thead>\n",
       "  <tbody>\n",
       "    <tr>\n",
       "      <th>0</th>\n",
       "      <td>469</td>\n",
       "      <td>80</td>\n",
       "    </tr>\n",
       "    <tr>\n",
       "      <th>1</th>\n",
       "      <td>100</td>\n",
       "      <td>242</td>\n",
       "    </tr>\n",
       "  </tbody>\n",
       "</table>\n",
       "</div>"
      ],
      "text/plain": [
       "     0    1\n",
       "0  469   80\n",
       "1  100  242"
      ]
     },
     "execution_count": 45,
     "metadata": {},
     "output_type": "execute_result"
    }
   ],
   "source": [
    "model = LogisticRegression(solver = 'liblinear',\n",
    "                           penalty = 'l2',\n",
    "                           C = 1.0,\n",
    "                           class_weight = None)\n",
    "model_result = cross_validate(model, X_train, Y_train, cv = 10,\n",
    "                             scoring = ('accuracy', 'recall', 'f1','roc_auc'))\n",
    "y_pred = cross_val_predict(model, X_train, Y_train, cv = 10)\n",
    "pd.DataFrame(confusion_matrix(Y_train, y_pred))"
   ]
  },
  {
   "cell_type": "code",
   "execution_count": 49,
   "id": "2834bf1f",
   "metadata": {},
   "outputs": [],
   "source": [
    "df_best_result_LR['Recall'] = model_result['test_recall'].mean()\n",
    "df_best_result_LR['F1_Score'] = model_result['test_f1'].mean()\n",
    "df_best_result_LR['Iteration'] = 3\n",
    "df_best_result_LR['AUC'] = model_result['test_roc_auc'].mean()"
   ]
  }
 ],
 "metadata": {
  "kernelspec": {
   "display_name": "Python 3",
   "language": "python",
   "name": "python3"
  },
  "language_info": {
   "codemirror_mode": {
    "name": "ipython",
    "version": 3
   },
   "file_extension": ".py",
   "mimetype": "text/x-python",
   "name": "python",
   "nbconvert_exporter": "python",
   "pygments_lexer": "ipython3",
   "version": "3.8.5"
  }
 },
 "nbformat": 4,
 "nbformat_minor": 5
}
